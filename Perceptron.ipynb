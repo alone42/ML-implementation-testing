{
 "cells": [
  {
   "cell_type": "markdown",
   "id": "b5d16e5f",
   "metadata": {},
   "source": [
    "## Perceptron"
   ]
  },
  {
   "cell_type": "code",
   "execution_count": null,
   "id": "da47d55c",
   "metadata": {},
   "outputs": [],
   "source": [
    "import warnings\n",
    "import time\n",
    "import numpy as np\n",
    "import matplotlib.pyplot as plt\n",
    "\n",
    "from sklearn.base import BaseEstimator, ClassifierMixin\n",
    "warnings.filterwarnings('ignore')"
   ]
  },
  {
   "cell_type": "markdown",
   "id": "92e64d42",
   "metadata": {},
   "source": [
    "### Base class implementation"
   ]
  },
  {
   "cell_type": "code",
   "execution_count": 1,
   "id": "0780284f",
   "metadata": {},
   "outputs": [],
   "source": [
    "class LinBase(BaseEstimator, ClassifierMixin):\n",
    "    \n",
    "    def __init__(self, coef=None, intercept=None, class_labels=None):\n",
    "        self.coef_ = coef\n",
    "        self.intercept_ = intercept\n",
    "        self.class_labels_ = class_labels\n",
    "    \n",
    "    def margin(self, X, y):\n",
    "        return y * (X.dot(self.coef_) + self.intercept_)\n",
    "    \n",
    "    def decision_function(self, X):\n",
    "        return self.margin(X, np.ones(X.shape[0]))\n",
    "    \n",
    "    def predict_proba(self, X):\n",
    "        b = self.margin(X, np.ones((X.shape[0])))\n",
    "        return np.array([1 - 1 / (1 + np.exp(-b)), 1 / (1 + np.exp(-b))]).T\n",
    "    \n",
    "    def predict(self, X):\n",
    "        results = np.sign(self.decision_function(X))\n",
    "        results_mapped = [self.class_labels_[i] for i in 1 * (results > 0)]\n",
    "        return results_mapped\n",
    "    \n",
    "    def get_params(self, deep=True): \n",
    "        return {\"coef_\": self.coef_, \"intercept_\": self.intercept_, \"class_labels_\": self.class_labels_}\n",
    "    \n",
    "    def set_params(self, parameters):\n",
    "        for parameter, value in parameters.items():\n",
    "            setattr(self, parameter, value)\n",
    "        return self\n",
    "    \n",
    "    def __str__(self):\n",
    "        return f\"{self.__class__.__name__}[w={self.coef_}, b={self.intercept_}]\""
   ]
  },
  {
   "cell_type": "markdown",
   "id": "f7b5304f",
   "metadata": {},
   "source": [
    "### Perceptron implementation"
   ]
  },
  {
   "cell_type": "code",
   "execution_count": 2,
   "id": "838d3df9",
   "metadata": {},
   "outputs": [],
   "source": [
    "class Perceptron(LinBase):\n",
    "    def __init__(self, break_time=1, **kwargs):\n",
    "        super(Perceptron, self).__init__(**kwargs)\n",
    "        self.break_time_ = break_time\n",
    "\n",
    "    def fit(self, X, y):\n",
    "        counter = 0\n",
    "        i = 0\n",
    "        n = 0\n",
    "        k = 0\n",
    "        m = X.shape[0]\n",
    "        tic = time.time()\n",
    "        toc = 0\n",
    "        while n < m and toc - tic <= self.break_time_ * 3600:\n",
    "            if self.margin(X[i], y[i]) <= 0:\n",
    "                self.coef_ += y[i] * X[i]\n",
    "                self.intercept_ += y[i]\n",
    "                n = 0\n",
    "                k += 1\n",
    "            else:\n",
    "                n += 1\n",
    "            counter += 1\n",
    "            i = counter % m\n",
    "            toc = time.time()\n",
    "        return toc - tic, k, self.coef_"
   ]
  },
  {
   "cell_type": "markdown",
   "id": "148c597a",
   "metadata": {},
   "source": [
    "### Perceptron implementation with gamma-margin"
   ]
  },
  {
   "cell_type": "code",
   "execution_count": 3,
   "id": "e3bec3b9",
   "metadata": {},
   "outputs": [],
   "source": [
    "import copy\n",
    "\n",
    "class GammaPerceptron(LinBase):\n",
    "    def __init__(self, break_time=1, gamma=None, gamma_coef=None, gamma_intercept=None, **kwargs):\n",
    "        super(GammaPerceptron, self).__init__(**kwargs)\n",
    "        self.break_time_ = break_time\n",
    "        self.gamma_ = gamma\n",
    "        self.gamma_coef_ = gamma_coef\n",
    "        self.gamma_intercept_ = gamma_intercept\n",
    "\n",
    "    def fit(self, X, y):\n",
    "        counter = 0\n",
    "        i = 0\n",
    "        n = 0\n",
    "        k = 0\n",
    "        m = X.shape[0]\n",
    "        tic = time.time()\n",
    "        toc = 0\n",
    "        while n < m:\n",
    "            if self.margin(X[i], y[i]) <= self.gamma_ * np.linalg.norm(self.coef_):\n",
    "                self.coef_ += y[i] * X[i]\n",
    "                self.intercept_ += y[i]\n",
    "                n = 0\n",
    "                k += 1\n",
    "            else:\n",
    "                n += 1\n",
    "            if n == m and self.gamma_ is not None:\n",
    "                self.gamma_ = np.min(self.margin(X, y))\n",
    "                self.gamma_coef_ = copy.copy(self.coef_)\n",
    "                self.gamma_intercept_ = copy.copy(self.intercept_)\n",
    "                n = 0\n",
    "                \n",
    "            counter += 1\n",
    "            i = counter % m\n",
    "            toc = time.time()\n",
    "            if toc - tic >= self.break_time_ * 3600:\n",
    "                print(\"Error: Time is out, but gamma level is not reached.\")\n",
    "                break\n",
    "        return toc - tic, k, self.coef_\n",
    "    \n",
    "    def gamma_predict(self, X):\n",
    "        results = np.sign(X.dot(self.gamma_coef_) + self.gamma_intercept_)\n",
    "        results_mapped = [self.class_labels_[i] for i in 1 * (results > 0)]\n",
    "        return results_mapped"
   ]
  },
  {
   "cell_type": "markdown",
   "id": "912a46d5",
   "metadata": {},
   "source": [
    "### Voted perceptron implementation"
   ]
  },
  {
   "cell_type": "code",
   "execution_count": 4,
   "id": "b24b644c",
   "metadata": {},
   "outputs": [],
   "source": [
    "class VotedPerceptron(LinBase):\n",
    "    def __init__(self, break_time=1, k_max=None, coef_list=[], intercept_list=[], c=[], **kwargs):\n",
    "        super(VotedPerceptron, self).__init__(**kwargs)\n",
    "        self.break_time_ = break_time\n",
    "        self.k_max_ = k_max\n",
    "        self.coef_list_ = coef_list\n",
    "        self.intercept_list_ = intercept_list\n",
    "        self.c_ = c\n",
    "\n",
    "    def fit(self, X, y):\n",
    "        counter = 0\n",
    "        i = 0\n",
    "        k = 0\n",
    "        m = X.shape[0]\n",
    "        tic = time.time()\n",
    "        toc = 0\n",
    "        self.coef_list_.append(self.coef_)\n",
    "        self.intercept_list_.append(self.intercept_)\n",
    "        self.c_.append(1)\n",
    "        \n",
    "        while k < self.k_max_ and toc - tic < self.break_time_ * 3600:\n",
    "            if self.margin(X[i], y[i]) <= 0:\n",
    "                self.coef_list_.append(self.coef_ + y[i] * X[i])\n",
    "                self.intercept_list_.append(self.intercept_ + y[i])\n",
    "                self.c_.append(1)\n",
    "                \n",
    "                self.coef_ = self.coef_list_[-1]\n",
    "                self.intercept_ = self.intercept_list_[-1]\n",
    "                k += 1\n",
    "            else:\n",
    "                self.c_[-1] += 1\n",
    "            counter += 1\n",
    "            i = counter % m\n",
    "            toc = time.time()\n",
    "        return toc - tic, k, self.coef_\n",
    "            \n",
    "    def predict(self, X):\n",
    "        suma = 0\n",
    "        for i, ic in enumerate(self.c_):\n",
    "            suma += ic * np.sign((X.dot(self.coef_list_[i]) + self.intercept_list_[i]))\n",
    "        return np.sign(suma)"
   ]
  },
  {
   "cell_type": "markdown",
   "id": "4ed70b82",
   "metadata": {},
   "source": [
    "### Averaged perceptron implementation"
   ]
  },
  {
   "cell_type": "code",
   "execution_count": 5,
   "id": "1a11a709",
   "metadata": {},
   "outputs": [],
   "source": [
    "class AveragedPerceptron(LinBase):\n",
    "    def __init__(self, break_time=1, k_max=None, coef_list=[], intercept_list=[], c=[], **kwargs):\n",
    "        super(AveragedPerceptron, self).__init__(**kwargs)\n",
    "        self.break_time_ = break_time\n",
    "        self.k_max_ = k_max\n",
    "        self.coef_list_ = coef_list\n",
    "        self.intercept_list_ = intercept_list\n",
    "        self.c_ = c\n",
    "\n",
    "    def fit(self, X, y):\n",
    "        counter = 0\n",
    "        i = 0\n",
    "        k = 0\n",
    "        m = X.shape[0]\n",
    "        tic = time.time()\n",
    "        toc = 0\n",
    "        self.coef_list_.append(self.coef_)\n",
    "        self.intercept_list_.append(self.intercept_)\n",
    "        self.c_.append(1)\n",
    "        \n",
    "        while k < self.k_max_ and toc - tic < self.break_time_ * 3600:\n",
    "            if self.margin(X[i], y[i]) <= 0:\n",
    "                self.coef_list_.append(self.coef_ + y[i] * X[i])\n",
    "                self.intercept_list_.append(self.intercept_ + y[i])\n",
    "                self.c_.append(1)\n",
    "                \n",
    "                self.coef_ = self.coef_list_[-1]\n",
    "                self.intercept_ = self.intercept_list_[-1]\n",
    "                k += 1\n",
    "            else:\n",
    "                self.c_[-1] += 1\n",
    "            counter += 1\n",
    "            i = counter % m\n",
    "            toc = time.time()\n",
    "        return toc - tic, k, self.coef_\n",
    "            \n",
    "    def predict(self, X):\n",
    "        suma = 0\n",
    "        for i, ic in enumerate(self.c_):\n",
    "            suma += ic * (X.dot(self.coef_list_[i]) + self.intercept_list_[i])\n",
    "        return np.sign(suma)"
   ]
  },
  {
   "cell_type": "code",
   "execution_count": 6,
   "id": "76bb00b4",
   "metadata": {},
   "outputs": [],
   "source": [
    "def plot_class(X, y, clf, gamma):\n",
    "    [x1, x2] = np.meshgrid(np.linspace(np.nanmin(X[:, 0]), np.nanmax(X[:, 0]), 50), np.linspace(np.nanmin(X[:, 1]), np.nanmax(X[:, 1]), 50))\n",
    "    y1 = clf.predict(np.array([x1.ravel(), x2.ravel()]).T)\n",
    "    y1 = np.reshape(y1, (50, 50))\n",
    "    plt.scatter(X[:, 0], X[:, 1], c=y)\n",
    "    plt.contour(x1, x2, y1, [0, 1], colors='k')\n",
    "    if gamma:\n",
    "        y2 = clf.gamma_predict(np.array([x1.ravel(), x2.ravel()]).T)\n",
    "        y2 = np.reshape(y2, (50, 50))\n",
    "        plt.contour(x1, x2, y2, [0, 1], colors='g')       \n",
    "    plt.show()"
   ]
  },
  {
   "cell_type": "markdown",
   "id": "fa7ede54",
   "metadata": {},
   "source": [
    "### Linear separation data"
   ]
  },
  {
   "cell_type": "code",
   "execution_count": 29,
   "id": "967f06d0",
   "metadata": {},
   "outputs": [],
   "source": [
    "m, n = 30, 2\n",
    "X = np.random.rand(m, n)\n",
    "y = (X.dot([1, 1]) > 1) * 2 - 1"
   ]
  },
  {
   "cell_type": "code",
   "execution_count": 22,
   "id": "983396f8",
   "metadata": {},
   "outputs": [
    {
     "name": "stdout",
     "output_type": "stream",
     "text": [
      "TIME: 0.006520271301269531, ITERATIONS = 16, MARGIN: [1.35042168 2.04028384]\n",
      "SCORE: 1\n"
     ]
    },
    {
     "data": {
      "image/png": "[encoded data removed]",
      "text/plain": [
       "<Figure size 432x288 with 1 Axes>"
      ]
     },
     "metadata": {
      "needs_background": "light"
     },
     "output_type": "display_data"
    }
   ],
   "source": [
    "perceptron = Perceptron()\n",
    "perceptron.set_params({\"coef_\": np.zeros(X.shape[1]), \"intercept_\": 0.0, \"class_labels_\": [-1, 1], \"break_time_\": 0.01})\n",
    "t, i, w = perceptron.fit(X, y)\n",
    "print(f\"TIME: {t}(s), ITERATIONS = {i}, MARGIN: {w}\")\n",
    "unique, counts = np.unique(perceptron.predict(X) == y, return_counts=True)\n",
    "if unique.shape[0] != 1:\n",
    "    score = counts[1] / (np.sum(counts))\n",
    "else:\n",
    "    score = 1\n",
    "print(f\"SCORE: {score}\")\n",
    "plot_class(X, y, perceptron, False)"
   ]
  },
  {
   "cell_type": "code",
   "execution_count": 21,
   "id": "d4feb3e6",
   "metadata": {},
   "outputs": [
    {
     "name": "stdout",
     "output_type": "stream",
     "text": [
      "Error: Time is out, but gamma level is not reached.\n",
      "TIME: 36.00218176841736, ITERATIONS = 1238791, MARGIN: [133819.88932849  71574.55448887]\n",
      "SCORE: 1\n"
     ]
    },
    {
     "data": {
      "image/png": "[encoded data removed]",
      "text/plain": [
       "<Figure size 432x288 with 1 Axes>"
      ]
     },
     "metadata": {
      "needs_background": "light"
     },
     "output_type": "display_data"
    }
   ],
   "source": [
    "perceptron = GammaPerceptron()\n",
    "perceptron.set_params({\"coef_\": np.zeros(X.shape[1]), \"intercept_\": 0.0, \"class_labels_\": [-1, 1], \"gamma_\": 0, \"break_time_\": 0.01})\n",
    "t, i, w = perceptron.fit(X, y)\n",
    "print(f\"TIME: {t}(s), ITERATIONS = {i}, MARGIN: {w}\")\n",
    "unique, counts = np.unique(perceptron.predict(X) == y, return_counts=True)\n",
    "if unique.shape[0] != 1:\n",
    "    score = counts[1] / (np.sum(counts))\n",
    "else:\n",
    "    score = 1\n",
    "print(f\"SCORE: {score}\")\n",
    "plot_class(X, y, perceptron, True)"
   ]
  },
  {
   "cell_type": "code",
   "execution_count": 27,
   "id": "fcc10a69",
   "metadata": {},
   "outputs": [
    {
     "name": "stdout",
     "output_type": "stream",
     "text": [
      "TIME: 18.006651878356934, ITERATIONS = 16, MARGIN: [1.35042168 2.04028384]\n",
      "SCORE: 1\n"
     ]
    },
    {
     "data": {
      "image/png": "[encoded data removed]",
      "text/plain": [
       "<Figure size 432x288 with 1 Axes>"
      ]
     },
     "metadata": {
      "needs_background": "light"
     },
     "output_type": "display_data"
    }
   ],
   "source": [
    "perceptron = VotedPerceptron()\n",
    "perceptron.set_params({\"coef_\": np.zeros(X.shape[1]), \"intercept_\": 0.0, \"class_labels_\": [-1, 1], \"k_max_\": 100, \"break_time_\": 0.005})\n",
    "t, i, w = perceptron.fit(X, y)\n",
    "print(f\"TIME: {t}(s), ITERATIONS = {i}, MARGIN: {w}\")\n",
    "unique, counts = np.unique(perceptron.predict(X) == y, return_counts=True)\n",
    "if unique.shape[0] != 1:\n",
    "    score = counts[1] / (np.sum(counts))\n",
    "else:\n",
    "    score = 1\n",
    "print(f\"SCORE: {score}\")\n",
    "plot_class(X, y, perceptron, False)"
   ]
  },
  {
   "cell_type": "code",
   "execution_count": 28,
   "id": "1987761d",
   "metadata": {},
   "outputs": [
    {
     "name": "stdout",
     "output_type": "stream",
     "text": [
      "TIME: 36.012972354888916, ITERATIONS = 16, MARGIN: [1.35042168 2.04028384]\n",
      "SCORE: 1\n"
     ]
    },
    {
     "data": {
      "image/png": "[encoded data removed]",
      "text/plain": [
       "<Figure size 432x288 with 1 Axes>"
      ]
     },
     "metadata": {
      "needs_background": "light"
     },
     "output_type": "display_data"
    }
   ],
   "source": [
    "perceptron = AveragedPerceptron()\n",
    "perceptron.set_params({\"coef_\": np.zeros(X.shape[1]), \"intercept_\": 0.0, \"class_labels_\": [-1, 1], \"k_max_\": 200, \"break_time_\": 0.01})\n",
    "t, i, w = perceptron.fit(X, y)\n",
    "print(f\"TIME: {t}(s), ITERATIONS = {i}, MARGIN: {w}\")\n",
    "unique, counts = np.unique(perceptron.predict(X) == y, return_counts=True)\n",
    "if unique.shape[0] != 1:\n",
    "    score = counts[1] / (np.sum(counts))\n",
    "else:\n",
    "    score = 1\n",
    "print(f\"SCORE: {score}\")\n",
    "plot_class(X, y, perceptron, False)"
   ]
  },
  {
   "cell_type": "markdown",
   "id": "76468dbe",
   "metadata": {},
   "source": [
    "### Nonlinear separation data"
   ]
  },
  {
   "cell_type": "code",
   "execution_count": 78,
   "id": "c0c62f11",
   "metadata": {},
   "outputs": [],
   "source": [
    "m, n = 30, 2\n",
    "X = np.random.rand(m, n)\n",
    "y = (X.dot([1, 1]) > 1) * 2 - 1\n",
    "X += np.random.normal(0, 0.05, size=(m, n))\n",
    "\n",
    "# from sklearn.datasets import make_blobs\n",
    "# X, y = make_blobs(n_samples=30, centers=2, n_features=2)"
   ]
  },
  {
   "cell_type": "code",
   "execution_count": 21,
   "id": "a53114fd",
   "metadata": {
    "scrolled": true
   },
   "outputs": [
    {
     "name": "stdout",
     "output_type": "stream",
     "text": [
      "TIME: 180.00091314315796, ITERATIONS = 2267488, MARGIN: [7.37537045 7.94721641]\n",
      "SCORE: 0.9333333333333333\n"
     ]
    },
    {
     "data": {
      "image/png": "[encoded data removed]",
      "text/plain": [
       "<Figure size 432x288 with 1 Axes>"
      ]
     },
     "metadata": {
      "needs_background": "light"
     },
     "output_type": "display_data"
    }
   ],
   "source": [
    "perceptron = Perceptron()\n",
    "perceptron.set_params({\"coef_\": np.zeros(X.shape[1]), \"intercept_\": 0.0, \"class_labels_\": [-1, 1], \"break_time_\": 0.05})\n",
    "t, i, w = perceptron.fit(X, y)\n",
    "print(f\"TIME: {t}(s), ITERATIONS = {i}, MARGIN: {w}\")\n",
    "unique, counts = np.unique(perceptron.predict(X) == y, return_counts=True)\n",
    "if unique.shape[0] != 1:\n",
    "    score = counts[1] / (np.sum(counts))\n",
    "else:\n",
    "    score = 1\n",
    "print(f\"SCORE: {score}\")\n",
    "plot_class(X, y, perceptron, False)"
   ]
  },
  {
   "cell_type": "code",
   "execution_count": 27,
   "id": "26e558af",
   "metadata": {},
   "outputs": [
    {
     "name": "stdout",
     "output_type": "stream",
     "text": [
      "Error: Time is out, but gamma level is not reached.\n",
      "TIME: 72.000408411026, ITERATIONS = 430387, MARGIN: [7.81050832 8.43051637]\n",
      "SCORE: 0.8666666666666667\n"
     ]
    }
   ],
   "source": [
    "perceptron = GammaPerceptron()\n",
    "perceptron.set_params({\"coef_\": np.zeros(X.shape[1]), \"intercept_\": 0.0, \"class_labels_\": [-1, 1], \"gamma_\": 0, \"break_time_\": 0.02})\n",
    "t, i, w = perceptron.fit(X, y)\n",
    "print(f\"TIME: {t}(s), ITERATIONS = {i}, MARGIN: {w}\")\n",
    "unique, counts = np.unique(perceptron.predict(X) == y, return_counts=True)\n",
    "if unique.shape[0] != 1:\n",
    "    score = counts[1] / (np.sum(counts))\n",
    "else:\n",
    "    score = 1\n",
    "print(f\"SCORE: {score}\")"
   ]
  },
  {
   "cell_type": "code",
   "execution_count": 29,
   "id": "c15dcca4",
   "metadata": {},
   "outputs": [
    {
     "data": {
      "image/png": "[encoded data removed]",
      "text/plain": [
       "<Figure size 432x288 with 1 Axes>"
      ]
     },
     "metadata": {
      "needs_background": "light"
     },
     "output_type": "display_data"
    }
   ],
   "source": [
    "plot_class(X, y, perceptron, False)"
   ]
  },
  {
   "cell_type": "code",
   "execution_count": 30,
   "id": "126d9a7b",
   "metadata": {},
   "outputs": [
    {
     "name": "stdout",
     "output_type": "stream",
     "text": [
      "TIME: 0.0, ITERATIONS = 200, MARGIN: [5.85133304 6.30730806]\n",
      "SCORE: 0.9\n"
     ]
    },
    {
     "data": {
      "image/png": "[encoded data removed]",
      "text/plain": [
       "<Figure size 432x288 with 1 Axes>"
      ]
     },
     "metadata": {
      "needs_background": "light"
     },
     "output_type": "display_data"
    }
   ],
   "source": [
    "perceptron = VotedPerceptron()\n",
    "perceptron.set_params({\"coef_\": np.zeros(X.shape[1]), \"intercept_\": 0.0, \"class_labels_\": [-1, 1], \"k_max_\": 200, \"break_time_\": 0.03})\n",
    "t, i, w = perceptron.fit(X, y)\n",
    "print(f\"TIME: {t}(s), ITERATIONS = {i}, MARGIN: {w}\")\n",
    "unique, counts = np.unique(perceptron.predict(X) == y, return_counts=True)\n",
    "if unique.shape[0] != 1:\n",
    "    score = counts[1] / (np.sum(counts))\n",
    "else:\n",
    "    score = 1\n",
    "print(f\"SCORE: {score}\")\n",
    "plot_class(X, y, perceptron, False)"
   ]
  },
  {
   "cell_type": "code",
   "execution_count": 31,
   "id": "bc956562",
   "metadata": {},
   "outputs": [
    {
     "name": "stdout",
     "output_type": "stream",
     "text": [
      "TIME: 0.0, ITERATIONS = 50, MARGIN: [2.4876317  2.51481762]\n",
      "SCORE: 0.9\n"
     ]
    },
    {
     "data": {
      "image/png": "[encoded data removed]",
      "text/plain": [
       "<Figure size 432x288 with 1 Axes>"
      ]
     },
     "metadata": {
      "needs_background": "light"
     },
     "output_type": "display_data"
    }
   ],
   "source": [
    "perceptron = AveragedPerceptron()\n",
    "perceptron.set_params({\"coef_\": np.zeros(X.shape[1]), \"intercept_\": 0.0, \"class_labels_\": [-1, 1], \"k_max_\": 50, \"break_time_\": 0.02})\n",
    "t, i, w = perceptron.fit(X, y)\n",
    "print(f\"TIME: {t}(s), ITERATIONS = {i}, MARGIN: {w}\")\n",
    "unique, counts = np.unique(perceptron.predict(X) == y, return_counts=True)\n",
    "if unique.shape[0] != 1:\n",
    "    score = counts[1] / (np.sum(counts))\n",
    "else:\n",
    "    score = 1\n",
    "print(f\"SCORE: {score}\")\n",
    "plot_class(X, y, perceptron, False)"
   ]
  },
  {
   "cell_type": "markdown",
   "id": "26f39119",
   "metadata": {},
   "source": [
    "### Sonar dataset"
   ]
  },
  {
   "cell_type": "code",
   "execution_count": 7,
   "id": "ba9aa981",
   "metadata": {},
   "outputs": [],
   "source": [
    "from scipy.io import arff\n",
    "import pandas as pd\n",
    "\n",
    "def fun(x):\n",
    "    if type(x) == bytes:\n",
    "        return str(x, encoding='utf-8')\n",
    "    else:\n",
    "        return x\n",
    "\n",
    "data, meta = arff.loadarff(\"sonar.arff\")\n",
    "df = pd.DataFrame(data)\n",
    "df = df.applymap(fun)\n",
    "array = np.asarray(df).T \n",
    "X = np.array(array[:-1], dtype='float16').T\n",
    "y = array[-1]\n",
    "y = (y ==y[0]) * 2 - 1"
   ]
  },
  {
   "cell_type": "code",
   "execution_count": 64,
   "id": "564ad9fb",
   "metadata": {},
   "outputs": [
    {
     "name": "stdout",
     "output_type": "stream",
     "text": [
      "TIME: 369.3118484020233, ITERATIONS = 2733248 \n",
      "MARGIN: [-3.95865562e+02 -6.66230927e+01  7.29583254e+02 -2.78609058e+02\n",
      "  9.97491379e+01 -1.84330231e+02  2.25267578e+02  2.12468147e+02\n",
      " -3.18782249e+02  1.47332031e+02 -1.26226044e+02 -2.81252106e+02\n",
      "  1.25180115e+02 -2.36051025e+01 -8.47157135e+01  1.53991425e+02\n",
      "  1.67699402e+02 -2.06241089e+02  1.42944641e+02 -3.46832642e+02\n",
      "  4.07667542e+02 -4.66360291e+02  3.52508026e+02 -3.54898438e+02\n",
      "  1.58155029e+02  5.71906128e+01 -1.57599304e+02  6.63499298e+01\n",
      "  8.72987366e+01 -4.00107819e+02  5.09363770e+02 -2.15425110e+02\n",
      " -7.48583679e+01  1.54719101e+02 -9.93968658e+01  1.14289246e+01\n",
      "  1.85803345e+02 -2.47673340e+01 -2.11086334e+02  2.47868744e+02\n",
      " -3.80210876e+01 -7.87978821e+01 -4.28771515e+01 -7.16941833e+01\n",
      "  1.15225128e+02 -2.24590530e+02 -2.14594269e+00 -4.32007187e+02\n",
      " -5.99106422e+02  2.80084408e+03 -7.66398397e+02 -1.80169555e+03\n",
      " -9.14270634e+02  1.21433323e+02 -4.24931419e+02  5.89108087e+02\n",
      "  6.91525420e+02 -9.28226859e+02 -5.95318406e+02 -4.49187394e+02]\n",
      "SCORE: 1\n"
     ]
    }
   ],
   "source": [
    "perceptron = Perceptron()\n",
    "perceptron.set_params({\"coef_\": np.zeros(X.shape[1]), \"intercept_\": 0.0, \"class_labels_\": [-1, 1], \"break_time_\": 1})\n",
    "t, i, w = perceptron.fit(X, y)\n",
    "print(f\"TIME: {t}(s), ITERATIONS = {i} \\nMARGIN: {w}\")\n",
    "unique, counts = np.unique(perceptron.predict(X) == y, return_counts=True)\n",
    "if unique.shape[0] != 1:\n",
    "    score = counts[1] / (np.sum(counts))\n",
    "elif unique[0] == False:\n",
    "    score = 0\n",
    "else:\n",
    "    score = 1\n",
    "print(f\"SCORE: {score}\")"
   ]
  },
  {
   "cell_type": "code",
   "execution_count": 65,
   "id": "042442e5",
   "metadata": {},
   "outputs": [
    {
     "name": "stdout",
     "output_type": "stream",
     "text": [
      "Error: Time is out, but gamma level is not reached.\n",
      "TIME: 7200.002749919891, ITERATIONS = 245404042 \n",
      "MARGIN: [ -570462.13698006  -676551.14543915  -897843.59225368 -2137568.16514206\n",
      " -1852354.52906036  -805016.64795685    58335.76674271  -230554.87453461\n",
      " -3307125.0677948  -3799260.97418976 -5670451.58496094 -5297154.37026978\n",
      " -2583822.04826355   704883.36862183  2113199.91858101  2673436.13265991\n",
      "  1574814.81567383   717465.72909546 -1090459.16351318 -1219269.8369751\n",
      " -1287486.14202881 -1218908.10357666 -1326780.8147583   -281146.94882202\n",
      "  1440859.43740845  1758764.79675293    99974.06591797 -1520408.69494629\n",
      " -1042757.73794556  -813286.5715332   3634202.63830566   472957.80606079\n",
      "   951560.39779663  1229011.39942932   907697.46662903  3914508.77571869\n",
      "  2676734.13500977 -1810741.15228271 -1563154.28485107  2376787.6486969\n",
      "     8177.38903809 -1344851.54049683 -2987517.89013672 -3941673.66143799\n",
      " -4170628.21565247 -2769736.60673714 -2580504.99224854 -2411435.78262329\n",
      " -1485755.0932312     95198.40860653  -383783.20217657  -323195.26140499\n",
      "  -162485.24001503  -249885.86916637     8401.26212883  -128041.4712081\n",
      "   -27218.51711273  -264645.35198784  -221480.40338957   -69606.19465256]\n",
      "SCORE: 0.8125\n"
     ]
    }
   ],
   "source": [
    "perceptron = GammaPerceptron()\n",
    "perceptron.set_params({\"coef_\": np.zeros(X.shape[1]), \"intercept_\": 0.0, \"class_labels_\": [-1, 1], \"gamma_\": 0, \"break_time_\": 2.0})\n",
    "t, i, w = perceptron.fit(X, y)\n",
    "print(f\"TIME: {t}(s), ITERATIONS = {i} \\nMARGIN: {w}\")\n",
    "unique, counts = np.unique(perceptron.predict(X) == y, return_counts=True)\n",
    "if unique.shape[0] != 1:\n",
    "    score = counts[1] / (np.sum(counts))\n",
    "elif unique[0] == False:\n",
    "    score = 0\n",
    "else:\n",
    "    score = 1\n",
    "print(f\"SCORE: {score}\")"
   ]
  },
  {
   "cell_type": "code",
   "execution_count": 12,
   "id": "1026bf26",
   "metadata": {},
   "outputs": [
    {
     "name": "stdout",
     "output_type": "stream",
     "text": [
      "TIME: 360.01088094711304(s), ITERATIONS = 2661956 \n",
      "MARGIN: [-3.95813082e+02 -5.19033356e+01  7.15170620e+02 -2.82448872e+02\n",
      "  9.32568588e+01 -1.83524544e+02  2.25190567e+02  2.02862854e+02\n",
      " -2.93801888e+02  1.34377914e+02 -1.18738129e+02 -2.77176544e+02\n",
      "  1.31588806e+02 -2.86402588e+01 -8.69268951e+01  1.55358856e+02\n",
      "  1.68054474e+02 -2.12366455e+02  1.39014160e+02 -3.53572754e+02\n",
      "  4.06787781e+02 -4.62291443e+02  3.59018921e+02 -3.50906219e+02\n",
      "  1.47783325e+02  5.99152832e+01 -1.43998108e+02  6.68860321e+01\n",
      "  8.21697083e+01 -3.96346375e+02  5.03916626e+02 -2.06089386e+02\n",
      " -8.64089355e+01  1.56495407e+02 -9.21853485e+01 -2.24063110e+00\n",
      "  1.92082642e+02 -2.36604004e+01 -2.07574646e+02  2.46152802e+02\n",
      " -3.97384033e+01 -7.21643219e+01 -4.74605865e+01 -7.46529083e+01\n",
      "  1.18417862e+02 -2.31610199e+02 -3.01994324e+00 -4.02274807e+02\n",
      " -6.06272835e+02  2.74660120e+03 -7.35459134e+02 -1.75545794e+03\n",
      " -9.07162467e+02  1.20572668e+02 -4.37716349e+02  5.65683259e+02\n",
      "  6.77989960e+02 -9.34921251e+02 -5.96479693e+02 -4.49887074e+02]\n"
     ]
    }
   ],
   "source": [
    "perceptron = VotedPerceptron()\n",
    "perceptron.set_params({\"coef_\": np.zeros(X.shape[1]), \"intercept_\": 0.0, \"class_labels_\": [-1, 1], \"k_max_\": 5000000000, \"break_time_\": 0.1})\n",
    "t, i, w = perceptron.fit(X, y)\n",
    "print(f\"TIME: {t}(s), ITERATIONS = {i} \\nMARGIN: {w}\")"
   ]
  },
  {
   "cell_type": "code",
   "execution_count": 13,
   "id": "3c208bbb",
   "metadata": {},
   "outputs": [
    {
     "name": "stdout",
     "output_type": "stream",
     "text": [
      "SCORE: 0.9038461538461539\n"
     ]
    }
   ],
   "source": [
    "unique, counts = np.unique(perceptron.predict(X) == y, return_counts=True)\n",
    "if unique.shape[0] != 1:\n",
    "    score = counts[1] / (np.sum(counts))\n",
    "elif unique[0] == False:\n",
    "    score = 0\n",
    "else:\n",
    "    score = 1\n",
    "print(f\"SCORE: {score}\")"
   ]
  },
  {
   "cell_type": "code",
   "execution_count": 14,
   "id": "2ede9e18",
   "metadata": {},
   "outputs": [
    {
     "name": "stdout",
     "output_type": "stream",
     "text": [
      "TIME: 360.0013659000397(s), ITERATIONS = 2700147 \n",
      "MARGIN: [-3.94375542e+02 -5.64242706e+01  7.17676855e+02 -2.82345707e+02\n",
      "  9.09057541e+01 -1.81207970e+02  2.24399841e+02  2.05435738e+02\n",
      " -3.01634819e+02  1.41106415e+02 -1.18607758e+02 -2.80368042e+02\n",
      "  1.31330688e+02 -2.98032837e+01 -8.63788300e+01  1.56722076e+02\n",
      "  1.68506897e+02 -2.13708313e+02  1.42140930e+02 -3.56837891e+02\n",
      "  4.09446472e+02 -4.64538879e+02  3.60193268e+02 -3.54230103e+02\n",
      "  1.50808960e+02  5.71746216e+01 -1.45419128e+02  6.62020721e+01\n",
      "  8.34309387e+01 -3.99265076e+02  5.05032837e+02 -2.08609589e+02\n",
      " -8.37929077e+01  1.55671890e+02 -9.46825104e+01  3.61236572e-01\n",
      "  1.90028259e+02 -2.07967529e+01 -2.12126984e+02  2.49336884e+02\n",
      " -4.15083923e+01 -7.10707245e+01 -5.10497284e+01 -7.39490051e+01\n",
      "  1.22102173e+02 -2.36494186e+02 -1.39053345e-01 -4.06501167e+02\n",
      " -6.04321426e+02  2.77758073e+03 -7.50834496e+02 -1.78096409e+03\n",
      " -9.11581177e+02  1.21857779e+02 -4.29435886e+02  5.75014274e+02\n",
      "  6.85173264e+02 -9.30933871e+02 -5.95694867e+02 -4.49743513e+02]\n",
      "SCORE: 0.8942307692307693\n"
     ]
    }
   ],
   "source": [
    "perceptron = AveragedPerceptron()\n",
    "perceptron.set_params({\"coef_\": np.zeros(X.shape[1]), \"intercept_\": 0.0, \"class_labels_\": [-1, 1], \"k_max_\": 5000000000, \"break_time_\": 0.1})\n",
    "t, i, w = perceptron.fit(X, y)\n",
    "print(f\"TIME: {t}(s), ITERATIONS = {i} \\nMARGIN: {w}\")\n",
    "unique, counts = np.unique(perceptron.predict(X) == y, return_counts=True)\n",
    "if unique.shape[0] != 1:\n",
    "    score = counts[1] / (np.sum(counts))\n",
    "elif unique[0] == False:\n",
    "    score = 0\n",
    "else:\n",
    "    score = 1\n",
    "print(f\"SCORE: {score}\")"
   ]
  },
  {
   "cell_type": "code",
   "execution_count": null,
   "id": "dcf0dd32",
   "metadata": {},
   "outputs": [],
   "source": []
  }
 ],
 "metadata": {
  "kernelspec": {
   "display_name": "Python 3 (ipykernel)",
   "language": "python",
   "name": "python3"
  },
  "language_info": {
   "codemirror_mode": {
    "name": "ipython",
    "version": 3
   },
   "file_extension": ".py",
   "mimetype": "text/x-python",
   "name": "python",
   "nbconvert_exporter": "python",
   "pygments_lexer": "ipython3",
   "version": "3.8.12"
  }
 },
 "nbformat": 4,
 "nbformat_minor": 5
}
